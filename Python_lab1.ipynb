{
 "cells": [
  {
   "cell_type": "code",
   "execution_count": 8,
   "id": "c39a66cc",
   "metadata": {
    "scrolled": true
   },
   "outputs": [
    {
     "name": "stdout",
     "output_type": "stream",
     "text": [
      "9\n"
     ]
    }
   ],
   "source": [
    "N = ord(\"D\") % 10 + 1\n",
    "print(N)"
   ]
  },
  {
   "cell_type": "markdown",
   "id": "57546232",
   "metadata": {},
   "source": [
    "<h1>Чеська республіка</h1>\n",
    "\n",
    "<strong>Площа</strong> - 78 866 км²\n",
    "\n",
    "<font color=\"red\">Форма </font> <font color=\"green\">правління </font> - <font color=\"pink\">унітарна конституційна парламентська республіка</font>\n",
    "<p style=\"border-width:3px; border-style:solid; border-color:#FF0000;\"> Населення - 10 637 540 </p>\n",
    "\n",
    "<table>\n",
    "  <tr>\n",
    "    <th></th>\n",
    "    <th>Межує з</th>\n",
    "    <th></th>\n",
    "\n",
    "  </tr>\n",
    "    <tr>\n",
    "    <td>Польша</td>\n",
    "    <td>Словаччина</td> \n",
    "    <td>Австрія</td>\n",
    "  </tr>\n",
    "    </table>\n",
    "    <a href = \"https://uk.wikipedia.org/wiki/Католицька_церква_в_Чехії\">Релігія</a>\n",
    " <ul>\n",
    "    <li>Католики </li>\n",
    "    <li>Греко-католики </li>\n",
    "    <li>Протестанти </li>\n",
    "\n",
    "</ul>\n",
    "\n",
    "<img src=\"https://upload.wikimedia.org/wikipedia/commons/thumb/2/23/Czech_Rep._-_Bohemia%2C_Moravia_and_Silesia_III_%28en%29.png/600px-Czech_Rep._-_Bohemia%2C_Moravia_and_Silesia_III_%28en%29.png\">\n",
    "\n",
    "<img src=\"czech.png\"/>\n",
    "\n",
    "<svg width=\"400\" height=\"400\">\n",
    "  <rect width=\"400\" height=\"200\" style=\"fill:rgb(0,0,255);stroke-width:3;stroke:rgb(0,0,0)\" />\n",
    "<rect width=\"400\" height=\"100\" style=\"fill:rgb(255,0,0);stroke-width:3;stroke:rgb(0,0,0)\" />\n",
    "  <polygon points=\"100 10, 100 100,400 100\" style=\"fill:white;stroke:purple;stroke-width:1\" /> \n",
    "</svg>\n"
   ]
  },
  {
   "cell_type": "code",
   "execution_count": 91,
   "id": "b13ff090",
   "metadata": {
    "scrolled": true
   },
   "outputs": [
    {
     "name": "stdout",
     "output_type": "stream",
     "text": [
      "Enter numbers 19 213 310 123 41 1\n",
      "310 213 123 1 "
     ]
    }
   ],
   "source": [
    "sz = 10**5\n",
    "isPrime = [True for i in range(sz + 1)]\n",
    " \n",
    "def sieve():\n",
    "     \n",
    "    isPrime[0] = isPrime[1] = False\n",
    " \n",
    "    i = 2\n",
    "    while i * i < sz:\n",
    "        if (isPrime[i]):\n",
    "            for j in range(i * i, sz, i):\n",
    "                isPrime[j] = False\n",
    "        i += 1\n",
    "        \n",
    "def printArray(arr, lenn):\n",
    "    for i in range(lenn):\n",
    "        print(arr[i], end = \" \")\n",
    "        \n",
    "def removePrimes(arr, lenn):\n",
    "     \n",
    "    sieve()\n",
    " \n",
    "    i = 0\n",
    "    while i < lenn:\n",
    " \n",
    "        if (isPrime[arr[i]]):\n",
    " \n",
    "            for j in range(i, lenn - 1):\n",
    "                arr[j] = arr[j + 1]\n",
    " \n",
    "            i -= 1\n",
    " \n",
    "            lenn -= 1\n",
    " \n",
    "        i += 1\n",
    " \n",
    "    printArray(arr, lenn)\n",
    " \n",
    "if __name__ == '__main__':\n",
    "    arr = list(map(int, input('Enter numbers ').split()))\n",
    "    arr.sort(reverse=True)\n",
    "    lenn = len(arr)\n",
    " \n",
    "    removePrimes(arr, lenn)"
   ]
  },
  {
   "cell_type": "code",
   "execution_count": 78,
   "id": "6842109d",
   "metadata": {},
   "outputs": [
    {
     "name": "stdout",
     "output_type": "stream",
     "text": [
      "Enter numbers 3\n",
      "[3]\n"
     ]
    }
   ],
   "source": []
  },
  {
   "cell_type": "code",
   "execution_count": null,
   "id": "09bc40e2",
   "metadata": {},
   "outputs": [],
   "source": []
  },
  {
   "cell_type": "code",
   "execution_count": null,
   "id": "f482c95b",
   "metadata": {},
   "outputs": [],
   "source": []
  }
 ],
 "metadata": {
  "kernelspec": {
   "display_name": "Python 3 (ipykernel)",
   "language": "python",
   "name": "python3"
  },
  "language_info": {
   "codemirror_mode": {
    "name": "ipython",
    "version": 3
   },
   "file_extension": ".py",
   "mimetype": "text/x-python",
   "name": "python",
   "nbconvert_exporter": "python",
   "pygments_lexer": "ipython3",
   "version": "3.8.2"
  }
 },
 "nbformat": 4,
 "nbformat_minor": 5
}
